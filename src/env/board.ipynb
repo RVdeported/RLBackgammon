{
 "cells": [
  {
   "cell_type": "code",
   "execution_count": 1,
   "metadata": {},
   "outputs": [],
   "source": [
    "from board import Board, StartPos\n",
    "import numpy as np\n",
    "from env import TestEnv\n"
   ]
  },
  {
   "cell_type": "code",
   "execution_count": 2,
   "metadata": {},
   "outputs": [
    {
     "name": "stdout",
     "output_type": "stream",
     "text": [
      "+5\t-0\t-0\t-0\t-3\t-0\t||\t-5\t-0\t-0\t-0\t-0\t+2\t\n",
      "-5\t-0\t-0\t-0\t+3\t-0\t||\t+5\t-0\t-0\t-0\t-0\t-2\t\n",
      "+0 | -0\n",
      "[[[21.2, 21.2]], [[20.200000000000003, 20.200000000000003], [20.200000000000003, 20.200000000000003]], [[20.200000000000003, 20.200000000000003], [20.200000000000003, 20.200000000000003]], [], [], [[20.200000000000003, 20.200000000000003], [20.200000000000003, 20.200000000000003]], [], []]\n",
      "Eval 21.2, 21.2\n",
      "|=======================|\n"
     ]
    },
    {
     "ename": "TypeError",
     "evalue": "TestEnv.peak() takes 4 positional arguments but 5 were given",
     "output_type": "error",
     "traceback": [
      "\u001b[0;31m---------------------------------------------------------------------------\u001b[0m",
      "\u001b[0;31mTypeError\u001b[0m                                 Traceback (most recent call last)",
      "Cell \u001b[0;32mIn[2], line 15\u001b[0m\n\u001b[1;32m     13\u001b[0m \u001b[38;5;28mprint\u001b[39m(\u001b[38;5;124m\"\u001b[39m\u001b[38;5;124m|=======================|\u001b[39m\u001b[38;5;124m\"\u001b[39m)\n\u001b[1;32m     14\u001b[0m \u001b[38;5;28;01mfor\u001b[39;00m act_1 \u001b[38;5;129;01min\u001b[39;00m actions_:\n\u001b[0;32m---> 15\u001b[0m     sars \u001b[38;5;241m=\u001b[39m \u001b[43menv\u001b[49m\u001b[38;5;241;43m.\u001b[39;49m\u001b[43mpeak\u001b[49m\u001b[43m(\u001b[49m\u001b[43mstate\u001b[49m\u001b[43m,\u001b[49m\u001b[43m \u001b[49m\u001b[43mact_1\u001b[49m\u001b[43m,\u001b[49m\u001b[43m \u001b[49m\u001b[38;5;28;43;01mTrue\u001b[39;49;00m\u001b[43m,\u001b[49m\u001b[43m \u001b[49m\u001b[38;5;241;43m2\u001b[39;49m\u001b[43m)\u001b[49m\n\u001b[1;32m     16\u001b[0m     \u001b[38;5;28mprint\u001b[39m(\u001b[38;5;124mf\u001b[39m\u001b[38;5;124m\"\u001b[39m\u001b[38;5;124mEval of option \u001b[39m\u001b[38;5;132;01m{\u001b[39;00menv\u001b[38;5;241m.\u001b[39mevaluate(sars\u001b[38;5;241m.\u001b[39mstate_next,\u001b[38;5;250m \u001b[39m\u001b[38;5;28;01mTrue\u001b[39;00m)\u001b[38;5;132;01m}\u001b[39;00m\u001b[38;5;124m, \u001b[39m\u001b[38;5;132;01m{\u001b[39;00menv\u001b[38;5;241m.\u001b[39mevaluate(sars\u001b[38;5;241m.\u001b[39mstate_next,\u001b[38;5;250m \u001b[39m\u001b[38;5;28;01mFalse\u001b[39;00m)\u001b[38;5;132;01m}\u001b[39;00m\u001b[38;5;124m\"\u001b[39m)\n\u001b[1;32m     18\u001b[0m     white_move \u001b[38;5;241m=\u001b[39m \u001b[38;5;129;01mnot\u001b[39;00m sars\u001b[38;5;241m.\u001b[39mcolor_switched\n",
      "\u001b[0;31mTypeError\u001b[0m: TestEnv.peak() takes 4 positional arguments but 5 were given"
     ]
    }
   ],
   "source": [
    "env = TestEnv(StartPos.SHORT)\n",
    "\n",
    "\n",
    "while not env.is_terminate().terminate:\n",
    "    env.board.print_board()\n",
    "    actions = env.get_moves()\n",
    "\n",
    "    state   = env.get_state() # always from white perspective!\n",
    "\n",
    "    print(env.fwd_look(state, True, True, 2))\n",
    "    actions_ = env.get_moves_from_state(state, True).actions\n",
    "    print(f\"Eval {env.evaluate(state, True)}, {env.evaluate(state, False)}\")\n",
    "    print(\"|=======================|\")\n",
    "    for act_1 in actions_:\n",
    "        sars = env.peak(state, act_1, True)\n",
    "        print(f\"Eval of option {env.evaluate(sars.state_next, True)}, {env.evaluate(sars.state_next, False)}\")\n",
    "\n",
    "        white_move = not sars.color_switched\n",
    "        next_actions = env.get_moves_from_state(sars.state_next, white_move).actions \n",
    "        print(\"++++++++++++\")\n",
    "        for act_2 in next_actions:\n",
    "            next_sars = env.peak(sars.state_next, act_2, white_move)\n",
    "            print(f\"Eval of option deep {env.evaluate(next_sars.state_next)}, action {act_2}\")\n",
    "            # board = env.state2board(next_sars.state_next)\n",
    "            # board.print_board()\n",
    "        print(\"------------\")\n",
    "        board = env.state2board(sars.state_next)\n",
    "        board.print_board()\n",
    "    print(\"|-----------------------|\")\n",
    "    act_idx = int(np.random.rand() * len(actions.actions))\n",
    "    reward = env.evaluate(env.get_state())\n",
    "\n",
    "    sars = env.step(act_idx)\n",
    "    print(f\"moving {act_idx} idx of {actions.actions}, curr dice {env.dice}, reward {reward} side {env.move_white}\") \n",
    "    \n"
   ]
  },
  {
   "cell_type": "code",
   "execution_count": 3,
   "metadata": {},
   "outputs": [],
   "source": [
    "state = env.get_state()"
   ]
  }
 ],
 "metadata": {
  "kernelspec": {
   "display_name": "brl",
   "language": "python",
   "name": "python3"
  },
  "language_info": {
   "codemirror_mode": {
    "name": "ipython",
    "version": 3
   },
   "file_extension": ".py",
   "mimetype": "text/x-python",
   "name": "python",
   "nbconvert_exporter": "python",
   "pygments_lexer": "ipython3",
   "version": "3.12.2"
  }
 },
 "nbformat": 4,
 "nbformat_minor": 2
}
